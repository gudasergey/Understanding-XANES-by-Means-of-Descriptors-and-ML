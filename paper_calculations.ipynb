{
 "cells": [
  {
   "cell_type": "markdown",
   "metadata": {},
   "source": [
    "# Understanding X-ray Absorption Spectra by Means of Descriptors and Machine Learning Algorithms\n",
    "### A. A. Guda, S. A. Guda, A. Martini, A.N. Kravtsova, A. Algasov, A. Bugaev, S. P. Kubrin, L. V. Guda, P. Šot, J. A. van Bokhoven, C. Copéret, A. V. Soldatov\n",
    "\n",
    "The notebook contains the code for using machine learning algorithms and establishing the relationship between intuitive descriptors of spectra, such as edge position, intensities, positions and curvatures of minima and maxima on the one side, and those of the local atomic and electronic structure which are the coordination numbers, bond distances and angles, and oxidation state on the other. This approach allows overcoming the problem of the systematic difference between theoretical and experimental spectra. Furthermore, the numerical relations can be expressed in analytical formulas providing a simple and fast tool to extract structural parameters based on spectral shape. The methodology was successfully applied to experimental data of the multicomponent Fe:SiO2 system and reference iron compounds, demonstrating the high prediction quality for both theoretical validation sets and experimental data.\n",
    "\n",
    "### Current folder contains:\n",
    "- exp subfolder with experimental spectra\n",
    "- generated subfolder with data generated during calculations and used afterwards\n",
    "- results subfolder\n",
    "- samples subfolder with theoretical spectra database\n",
    "- xyz subfolder with .xyz files used in molecule constructor and samples generation\n",
    "- exp_true_values.csv file with known parameters for experimental spectra database\n",
    "- instructions.docx file with install instructions\n",
    "- paper_calculations.ipynb - this notebook\n",
    "- Fe_project.py - project file with different settings\n",
    "\n",
    "## Import [PyFitIt](http://hpc.nano.sfedu.ru/pyfitit)"
   ]
  },
  {
   "cell_type": "code",
   "execution_count": null,
   "metadata": {},
   "outputs": [],
   "source": [
    "from pyfitit import *\n",
    "import pandas as pd\n",
    "\n",
    "resultFolder = 'results'"
   ]
  },
  {
   "cell_type": "markdown",
   "metadata": {},
   "source": [
    "## Plot spectra of the calculated samples (Figure 4a)"
   ]
  },
  {
   "cell_type": "code",
   "execution_count": null,
   "metadata": {},
   "outputs": [],
   "source": [
    "for cn in range(2,7):\n",
    "    sample = readSample(f'samples/sample_{cn}')\n",
    "    proj = loadProject('Fe_project.py', CN=cn, valence=3)\n",
    "    sample.spectra = smoothLib.smoothDataFrame(proj.FDMNES_smooth, sample.spectra, 'fdmnes', \n",
    "                                               proj.spectrum, proj.intervals['fit_norm'], \n",
    "                                               folder=sample.folder, norm=proj.FDMNES_smooth['norm'])\n",
    "    sample.limit(energyRange=[7100, 7200], inplace=True)\n",
    "    plotting.plotSample(sample.energy, sample.spectra, color_param=sample.params['r1'], \n",
    "                        fileName=f'{resultFolder}/sample_adaptive_CN{cn}_wo_pre-edge.png', \n",
    "                        title=f'Sample for cn={cn}', alpha=0.1)"
   ]
  },
  {
   "cell_type": "markdown",
   "metadata": {},
   "source": [
    "## Print information about structure parameters of the samples\n",
    "\n",
    "### Relation between paper notation p1,p2,p3,... and sampled parameters:\n",
    "\n",
    "- for cn=2: p1=r1, p2=r1+d12, p3=phi1, p4=psi\n",
    "- for cn=3: p1=phi, p2=r1, p3=r2, p4=function(p1)\n",
    "- for cn=4: p1=phi1, p2=phi2, p3=r1, p4=r2\n",
    "- for cn=5: p1=r2, p2=r2+d2, p3=r1, p4=phi2, p5=phi1\n",
    "- for cn=6: p1=r2, p2=r2+d2, p3=r1, p4=phi2, p5=phi1"
   ]
  },
  {
   "cell_type": "code",
   "execution_count": null,
   "metadata": {},
   "outputs": [],
   "source": [
    "cn = 2\n",
    "sample = readSample(f'samples/sample_{cn}')\n",
    "sample.params.describe()"
   ]
  },
  {
   "cell_type": "code",
   "execution_count": null,
   "metadata": {},
   "outputs": [],
   "source": [
    "sample.params"
   ]
  },
  {
   "cell_type": "markdown",
   "metadata": {},
   "source": [
    "## Construct database from samples for different cn and calculate descriptors of structure"
   ]
  },
  {
   "cell_type": "code",
   "execution_count": null,
   "metadata": {},
   "outputs": [],
   "source": [
    "# calculate structure parameters: mean and standard deviation of distances to O atoms\n",
    "def calcDist(params, mol, CN):\n",
    "    dists = mol.getSortedDists('O')\n",
    "    return [np.mean(dists[:CN]), np.std(dists[:CN])]\n",
    "\n",
    "# read pre-calculated samples and replace individual structure parameters by common: cn, valence, mean and std of distances to O atoms\n",
    "# These samples were calculated by adaptive sampling.\n",
    "# To get uniformly distributed geometry parameters, the samples can be converted to IHS by interpolation when flag convertToIHS=True\n",
    "def loadSpectra(energyRange=None, sampleFolder='samples', convertToIHS=False):\n",
    "    all_data = None\n",
    "    for CN in range(2,7):\n",
    "        for valence in [2,3]:\n",
    "            data = readSample(sampleFolder+os.sep+f'sample_{CN}')\n",
    "            projFile = 'Fe_project.py'\n",
    "            project = loadProject(projFile, CN=CN, valence=valence)\n",
    "            if convertToIHS:\n",
    "                geometryParamRanges = project.geometryParamRanges\n",
    "                for r in ['r1', 'r2']:\n",
    "                    if r in geometryParamRanges: geometryParamRanges[r][0] = 1.8\n",
    "                data = sampling.convertSampleTo(data, 'IHS', 500, geometryParamRanges, seed=0)\n",
    "                data.saveToFolder(f'generated/samples/sample_{CN}_IHS_generated')\n",
    "            n = len(data.params)\n",
    "            oldParams = data.paramNames\n",
    "            data.addParam(paramGenerator=lambda params, mol: calcDist(params, mol, CN), paramName=['FeODist','stdDist'], project=project)\n",
    "            data.addParam(paramName='CN', paramData=np.ones(n)*CN)\n",
    "            data.addParam(paramName='valence', paramData=np.ones(n)*valence)\n",
    "            data.delParam(oldParams)\n",
    "            data.spectra = smoothLib.smoothDataFrame(project.FDMNES_smooth, data.spectra, 'fdmnes', project.spectrum, project.intervals['fit_norm'], folder=data.folder, norm=project.FDMNES_smooth['norm'])\n",
    "            assert np.all(data.spectra.values<15)\n",
    "            data.addParam(paramName='name', paramData=np.array([f'cn{CN}v{valence}_{i}' for i in range(n)], dtype=object))\n",
    "            if all_data is None: all_data = data\n",
    "            else: all_data.unionWith(data)\n",
    "\n",
    "    # take all experimental spectra from folder exp\n",
    "    exp_spectra_names = []\n",
    "    exp_files = os.listdir('exp')\n",
    "    trueParams = pd.read_csv(f'exp_true_values.csv', sep=';')\n",
    "    for f in exp_files:\n",
    "        name = os.path.splitext(os.path.split(f)[-1])[0]\n",
    "        exp_spectra_names.append(name)\n",
    "        sp = readSpectrum(f'exp{os.sep}{f}')\n",
    "        i = np.where(trueParams['name'].to_numpy() == name)[0]\n",
    "        if len(i) > 0:\n",
    "            assert len(i) == 1\n",
    "            i = i[0]\n",
    "            true = {col:trueParams.loc[i,col] for col in set(trueParams.columns) if col == 'name' or not np.isnan(trueParams.loc[i,col])}\n",
    "        else: true = {'name': name}\n",
    "        all_data.addRow(sp, true)\n",
    "\n",
    "    all_data.limit(energyRange)\n",
    "    return all_data, exp_spectra_names\n",
    "\n",
    "if os.path.exists(f'generated/data_initial.pkl'):\n",
    "    singleComponentData, exp_spectra_names = utils.load_pkl(f'generated/data_initial.pkl')\n",
    "    singleComponentDataIHSgen, _ = utils.load_pkl(f'generated/data_initial_IHS_generated.pkl')\n",
    "else:\n",
    "    energyRange = [7100, 7200]\n",
    "    singleComponentData, exp_spectra_names = loadSpectra(energyRange, convertToIHS=False)\n",
    "    singleComponentDataIHSgen, _ = loadSpectra(energyRange, convertToIHS=True)\n",
    "    utils.save_pkl((singleComponentData, exp_spectra_names), f'generated/data_initial.pkl')\n",
    "    utils.save_pkl((singleComponentDataIHSgen, exp_spectra_names), f'generated/data_initial_IHS_generated.pkl')\n"
   ]
  },
  {
   "cell_type": "markdown",
   "metadata": {},
   "source": [
    "## Plot experimental spectra"
   ]
  },
  {
   "cell_type": "code",
   "execution_count": null,
   "metadata": {},
   "outputs": [],
   "source": [
    "print(exp_spectra_names)"
   ]
  },
  {
   "cell_type": "code",
   "execution_count": null,
   "metadata": {},
   "outputs": [],
   "source": [
    "toPlotNames = ['FeIII siloxide', 'Darwin glass', 'Zhamanshinite-3', 'akermanite', 'Fe@SiO2_1', 'kirschsteinite']\n",
    "toPlot = tuple()\n",
    "for name in toPlotNames:\n",
    "    sp = readSpectrum(f'exp{os.sep}{name}.txt')\n",
    "    toPlot += (sp.energy, sp.intensity, name)\n",
    "plotting.plotToFile(*toPlot, fileName='results/exp_spectra.png', xlim=[7100, 7200])"
   ]
  },
  {
   "cell_type": "markdown",
   "metadata": {},
   "source": [
    "## Calculate descriptors of spectra"
   ]
  },
  {
   "cell_type": "code",
   "execution_count": null,
   "metadata": {},
   "outputs": [],
   "source": [
    "def calc_descriptors(sample, usePcaPrebuildData, pcaPrebuildDataFile):\n",
    "    efermi = {'type':'efermi', 'columnName': 'Edge'}\n",
    "    stableMin = {'type': 'stableExtrema', 'extremaType': 'min', 'energyInterval': [7135,7190], \n",
    "                 'plotFolderPrefix': 'generated/stable_extrema', 'columnName': 'Pit'}\n",
    "    stableMax = copy.deepcopy(stableMin)\n",
    "    stableMax['extremaType'] = 'max'\n",
    "    stableMax['energyInterval'] = [7120,7150]\n",
    "    stableMax['columnName'] = 'WL'\n",
    "    relPcaPrebuildDataFile = os.path.split(pcaPrebuildDataFile)[0]+os.sep+'rel_'+os.path.split(pcaPrebuildDataFile)[-1]\n",
    "    sample, goodSpectrumIndices = descriptor.addDescriptors(sample, [stableMin, stableMax, efermi, \n",
    "         {'type':'pca', 'usePcaPrebuildData':usePcaPrebuildData, 'fileName':pcaPrebuildDataFile, 'columnName': 'PCA'}, \n",
    "         {'type':'rel_pca', 'usePcaPrebuildData':usePcaPrebuildData, 'fileName':relPcaPrebuildDataFile, 'columnName': 'rPCA'}])\n",
    "    d = sample.params\n",
    "    sample.addParam(paramName='Pit_e-WL_e', paramData=d['Pit_e'] - d['WL_e'])\n",
    "    sample.addParam(paramName='WL-Pit_slope', paramData=(d['WL_i'] - d['Pit_i'])/(d['Pit_e'] - d['WL_e']))\n",
    "    return sample, goodSpectrumIndices\n",
    "\n",
    "# if descriptors were already calculated we just load it\n",
    "if os.path.exists(f'generated/data.pkl'):\n",
    "    singleComponentData, _ = utils.load_pkl(f'generated/data.pkl')\n",
    "    singleComponentDataIHSgen, _ = utils.load_pkl(f'generated/data_IHS_gen.pkl')\n",
    "else:\n",
    "    singleComponentData, _ = calc_descriptors(singleComponentData, usePcaPrebuildData=False, pcaPrebuildDataFile='generated/pca_data.pkl')\n",
    "    singleComponentDataIHSgen, _ = calc_descriptors(singleComponentDataIHSgen, usePcaPrebuildData=False, pcaPrebuildDataFile='generated/pca_data_IHS_gen.pkl')\n",
    "    utils.save_pkl((singleComponentData, exp_spectra_names), f'generated/data.pkl')\n",
    "    utils.save_pkl((singleComponentDataIHSgen, exp_spectra_names), f'generated/data_IHS_gen.pkl')\n",
    "    \n",
    "# divide sample into two parts: known (theory) and unknown (experiments)\n",
    "singleComponentData, exp_sample = singleComponentData.splitUnknown()\n",
    "singleComponentDataIHSgen, _ = singleComponentDataIHSgen.splitUnknown()"
   ]
  },
  {
   "cell_type": "markdown",
   "metadata": {},
   "source": [
    "## Plot descriptors (Figure 5)"
   ]
  },
  {
   "cell_type": "code",
   "execution_count": null,
   "metadata": {},
   "outputs": [],
   "source": [
    "for combination in [['WL_d2', 'Pit_e'], ['Edge_e', 'WL_d2'], ['Edge_e', 'Pit_e'], ['rPCA2', 'rPCA3'], ['WL_e', 'Pit_e-WL_e'], ['PCA2', 'rPCA3']]:\n",
    "    descriptor.plot_descriptors_2d(singleComponentData.params, combination, ['CN'], folder_prefix=f'{resultFolder}/scatter_plots', \n",
    "                                   unknown=exp_sample.params, markersize=50, textsize=0, alpha=0.3, plot_only=True, doNotPlotRemoteCount=6)\n",
    "for combination in [['WL_e', 'Pit_e-WL_e'], ['PCA2', 'rPCA3']]:\n",
    "    descriptor.plot_descriptors_2d(singleComponentData.params, combination, ['valence'], folder_prefix=f'{resultFolder}/scatter_plots', \n",
    "                                   unknown=exp_sample.params, markersize=50, textsize=0, alpha=0.3, plot_only=True, doNotPlotRemoteCount=6)"
   ]
  },
  {
   "cell_type": "markdown",
   "metadata": {},
   "source": [
    "## Find best descriptor subsets of size 1, 2, 3, 4 (Table 3)"
   ]
  },
  {
   "cell_type": "code",
   "execution_count": null,
   "metadata": {},
   "outputs": [],
   "source": [
    "# the quality is measured using cv_count cross-validation technique, which is repeated m times\n",
    "# quality = accuracy for classification, r2-score - for regression\n",
    "def getQuality(label_name, combination):\n",
    "    print('Try to predict', label_name, 'by', combination)\n",
    "    qualityResult = descriptor.getQuality(singleComponentDataIHSgen.params, combination, [label_name], cv_count=10, m=5, printDebug=False)\n",
    "    print(f\"quality = {qualityResult[label_name]['quality']:.3f}±{qualityResult[label_name]['quality_std']:.3f}\")\n",
    "\n",
    "getQuality(label_name='CN', combination=['Pit_i'])\n",
    "getQuality(label_name='CN', combination=['WL_i'])\n",
    "getQuality(label_name='CN', combination=['Edge_e'])\n",
    "getQuality(label_name='CN', combination=['WL_d2'])\n",
    "getQuality(label_name='CN', combination=['PCA3'])\n",
    "getQuality(label_name='CN', combination=['WL-Pit_slope'])\n",
    "\n",
    "getQuality(label_name='CN', combination=['Edge_e', 'WL_d2'])\n",
    "getQuality(label_name='CN', combination=['Edge_e', 'Edge_slope'])\n",
    "getQuality(label_name='CN', combination=['WL_d2', 'Pit_e'])\n",
    "\n",
    "getQuality(label_name='CN', combination=['Edge_e', 'WL_e', 'rPCA3'])\n",
    "getQuality(label_name='CN', combination=['Edge_e', 'Edge_slope', 'WL_d2'])\n",
    "\n",
    "getQuality(label_name='CN', combination=['Edge_e', 'Edge_slope', 'WL_e', 'Pit_e'])\n",
    "\n",
    "# ===================================================\n",
    "\n",
    "getQuality(label_name='FeODist', combination=['Pit_e'])\n",
    "getQuality(label_name='FeODist', combination=['Pit_e-WL_e'])\n",
    "getQuality(label_name='FeODist', combination=['Edge_slope'])\n",
    "getQuality(label_name='FeODist', combination=['WL_e'])\n",
    "getQuality(label_name='FeODist', combination=['rPCA2'])\n",
    "getQuality(label_name='FeODist', combination=['PCA3'])\n",
    "\n",
    "getQuality(label_name='FeODist', combination=['rPCA2', 'rPCA3'])\n",
    "getQuality(label_name='FeODist', combination=['WL_d2', 'rPCA3'])\n",
    "getQuality(label_name='FeODist', combination=['Edge_e', 'Pit_e'])\n",
    "\n",
    "getQuality(label_name='FeODist', combination=['PCA2', 'PCA3', 'rPCA3'])\n",
    "getQuality(label_name='FeODist', combination=['Edge_e', 'WL_e', 'Pit_e'])\n",
    "\n",
    "getQuality(label_name='FeODist', combination=['Edge_e', 'WL_e', 'Pit_d2', 'Pit_e'])\n",
    "\n",
    "# =====================================================================\n",
    "\n",
    "getQuality(label_name='stdDist', combination=['Pit_i'])\n",
    "getQuality(label_name='stdDist', combination=['Pit_d2'])\n",
    "getQuality(label_name='stdDist', combination=['Edge_e'])\n",
    "getQuality(label_name='stdDist', combination=['rPCA3'])\n",
    "getQuality(label_name='stdDist', combination=['rPCA2'])\n",
    "getQuality(label_name='stdDist', combination=['PCA3'])\n",
    "\n",
    "getQuality(label_name='stdDist', combination=['WL_d2', 'Pit_i'])\n",
    "getQuality(label_name='stdDist', combination=['Pit_i', 'rPCA2'])\n",
    "getQuality(label_name='stdDist', combination=['PCA3', 'Pit_i'])\n",
    "\n",
    "getQuality(label_name='stdDist', combination=['Edge_e', 'WL_d2', 'Pit_i'])\n",
    "getQuality(label_name='stdDist', combination=['PCA2', 'PCA3', 'Pit_i'])\n",
    "\n",
    "getQuality(label_name='stdDist', combination=['Edge_e', 'WL_d2', 'WL_i', 'Pit_i'])\n",
    "\n",
    "# =====================================================================\n",
    "\n",
    "getQuality(label_name='valence', combination=['PCA1'])\n",
    "getQuality(label_name='valence', combination=['Edge_e'])\n",
    "getQuality(label_name='valence', combination=['WL_e'])\n",
    "getQuality(label_name='valence', combination=['PCA2'])\n",
    "getQuality(label_name='valence', combination=['rPCA1'])\n",
    "getQuality(label_name='valence', combination=['PCA3'])\n",
    "\n",
    "getQuality(label_name='valence', combination=['PCA1', 'rPCA3'])\n",
    "getQuality(label_name='valence', combination=['Edge_e', 'WL_i'])\n",
    "getQuality(label_name='valence', combination=['WL_e', 'Pit_e'])\n",
    "\n",
    "getQuality(label_name='valence', combination=['Edge_e', 'WL_d2', 'Pit_e-WL_e'])\n",
    "getQuality(label_name='valence', combination=['PCA2', 'rPCA2', 'rPCA3'])\n",
    "\n",
    "getQuality(label_name='valence', combination=['Edge_e', 'WL_e', 'Pit_e-WL_e', 'Pit_i'])"
   ]
  },
  {
   "cell_type": "markdown",
   "metadata": {},
   "source": [
    "## Analytical relations between descriptors of spectra and descriptors of structure (Table 4)"
   ]
  },
  {
   "cell_type": "code",
   "execution_count": null,
   "metadata": {},
   "outputs": [],
   "source": [
    "label_names = ['CN', 'FeODist', 'stdDist', 'valence']\n",
    "features = sorted(list(set(singleComponentDataIHSgen.paramNames) - set(label_names) - {'PCA1','PCA2','PCA3','rPCA1','rPCA2','rPCA3','name'}))\n",
    "descriptor.getAnalyticFormulasForGivenFeatures(singleComponentDataIHSgen.params, features, label_names, l1_ratio=1, \n",
    "                                               output_file=f'{resultFolder}/analytic_labels_by_features.txt')\n",
    "descriptor.getAnalyticFormulasForGivenFeatures(singleComponentDataIHSgen.params, sorted(list(set(label_names) - {'valence'})), features, \n",
    "                                               output_file=f'{resultFolder}/analytic_features_by_labels.txt')"
   ]
  },
  {
   "cell_type": "markdown",
   "metadata": {},
   "source": [
    "## Building sample of mixtures"
   ]
  },
  {
   "cell_type": "code",
   "execution_count": null,
   "metadata": {},
   "outputs": [],
   "source": [
    "# Do not rebuild sample, if it's saved copy exits\n",
    "if os.path.exists(f'generated/mix_data.pkl'):\n",
    "    mixtureData = utils.load_pkl(f'generated/mix_data.pkl')\n",
    "    mixtureDataIHSgen = utils.load_pkl(f'generated/mix_data_IHS_generated.pkl')\n",
    "else:\n",
    "    # generate mixtures of random spectra from singleComponentData with random concentrations\n",
    "    # target features (labels) are calculated as weighted average\n",
    "    label_names = ['CN', 'FeODist', 'stdDist', 'valence']\n",
    "    mixtureData = mixture.generateMixtureOfSample(size=5000, componentCount=2, sample=singleComponentData, \n",
    "        label_names=label_names, addDescrFunc=lambda sample: calc_descriptors(sample,True,'generated/pca_data.pkl'), \n",
    "        randomSeed=1, componentNameColumn='name')\n",
    "    mixtureDataIHSgen = mixture.generateMixtureOfSample(size=5000, componentCount=2, sample=singleComponentDataIHSgen, \n",
    "        label_names=label_names, addDescrFunc=lambda sample: calc_descriptors(sample,True,'generated/pca_data_IHS_gen.pkl'), \n",
    "        randomSeed=1, componentNameColumn='name')\n",
    "    utils.save_pkl(mixtureData, f'generated/mix_data.pkl')\n",
    "    utils.save_pkl(mixtureDataIHSgen, f'generated/mix_data_IHS_generated.pkl')\n",
    "    mixtureData.params.to_csv(f'generated/mix_data.csv', index=False, sep=' ')\n",
    "    mixtureDataIHSgen.params.to_csv(f'generated/mix_data_IHS_generated.csv', index=False, sep=' ')"
   ]
  },
  {
   "cell_type": "markdown",
   "metadata": {},
   "source": [
    "## Scatter plots of descriptors calculated for mixtures (Figure 8)"
   ]
  },
  {
   "cell_type": "code",
   "execution_count": null,
   "metadata": {},
   "outputs": [],
   "source": [
    "descriptor.plot_descriptors_2d(mixtureData.params, ['WL_d2', 'Pit_e'], ['CN'], folder_prefix=f'{resultFolder}/scatter_mix_plots', \n",
    "                               unknown=exp_sample.params, markersize=50, textsize=0, alpha=0.3, plot_only=True, doNotPlotRemoteCount=0)\n",
    "descriptor.plot_descriptors_2d(mixtureData.params, ['WL_d2', 'Pit_e'], ['FeODist'], folder_prefix=f'{resultFolder}/scatter_mix_plots', \n",
    "                               unknown=exp_sample.params, markersize=50, textsize=0, alpha=0.3, plot_only=True, doNotPlotRemoteCount=0)\n",
    "descriptor.plot_descriptors_2d(mixtureData.params, ['WL_e', 'Pit_e-WL_e'], ['valence'], folder_prefix=f'{resultFolder}/scatter_mix_plots', \n",
    "                               unknown=exp_sample.params, markersize=50, textsize=0, alpha=0.3, plot_only=True, doNotPlotRemoteCount=0)"
   ]
  },
  {
   "cell_type": "markdown",
   "metadata": {},
   "source": [
    "## Comparison between cross-validation quality calculated for selected combinations of descriptors (Tables 5,6 and Figure 9)"
   ]
  },
  {
   "cell_type": "code",
   "execution_count": null,
   "metadata": {},
   "outputs": [],
   "source": [
    "# Table 5\n",
    "table = 5\n",
    "descriptor.descriptor_quality(mixtureData.params, ['CN'], ['Edge_e', 'Pit_e-WL_e', 'WL_d2'], feature_subset_size=3, cv_parts_count=10, cv_repeat=3, \n",
    "                              unknown_data=exp_sample.params, textColumn='name', folder=f'{resultFolder}/table_{table}_CN')\n",
    "descriptor.descriptor_quality(mixtureData.params, ['FeODist'], ['Edge_e', 'WL_e', 'Pit_e'], feature_subset_size=3, cv_parts_count=10, cv_repeat=3, \n",
    "                              unknown_data=exp_sample.params, textColumn='name', folder=f'{resultFolder}/table_{table}_FeODist')\n",
    "descriptor.descriptor_quality(mixtureData.params, ['valence'], ['Edge_e', 'Pit_e', 'WL_i'], feature_subset_size=3, cv_parts_count=10, cv_repeat=3, \n",
    "                              unknown_data=exp_sample.params, textColumn='name', folder=f'{resultFolder}/table_{table}_valence')\n",
    "\n",
    "# Table 6 and Figure 9\n",
    "table = 6\n",
    "descriptor.descriptor_quality(mixtureData.params, ['CN'], ['WL_e', 'Pit_e', 'rPCA2'], feature_subset_size=3, cv_parts_count=10, cv_repeat=3, \n",
    "                              unknown_data=exp_sample.params, textColumn='name', folder=f'{resultFolder}/table_{table}_CN')\n",
    "descriptor.descriptor_quality(mixtureData.params, ['FeODist'], ['WL_i', 'Pit_i', 'rPCA2'], feature_subset_size=3, cv_parts_count=10, cv_repeat=3, \n",
    "                              unknown_data=exp_sample.params, textColumn='name', folder=f'{resultFolder}/table_{table}_FeODist')\n",
    "descriptor.descriptor_quality(mixtureData.params, ['valence'], ['Edge_e', 'WL_e', 'PCA3'], feature_subset_size=3, cv_parts_count=10, cv_repeat=3, \n",
    "                              unknown_data=exp_sample.params, textColumn='name', folder=f'{resultFolder}/table_{table}_valence')"
   ]
  },
  {
   "cell_type": "markdown",
   "metadata": {},
   "source": [
    "## Relative to constant prediction error calculated for training set of 600 spectra for CN=6 (Table S1)"
   ]
  },
  {
   "cell_type": "code",
   "execution_count": null,
   "metadata": {},
   "outputs": [],
   "source": [
    "v = 3;    cn = 6\n",
    "method = 'RBF'  # 'Ridge', 'Ridge Quadric', 'Extra Trees', 'RBF' 'LightGBM'\n",
    "proj = loadProject('Fe_project.py', CN=cn, valence=v)\n",
    "# this function builds ML model for spectra predition by structure parameters\n",
    "estimator = constructInverseEstimator(method, proj, proj.FDMNES_smooth, CVcount=10, \n",
    "                                      folderToSaveCVresult=f'{resultFolder}/{method}_v{v}_cn{cn}_CV')\n",
    "sample = readSample('samples/sample_'+str(cn))\n",
    "estimator.fit(sample)"
   ]
  },
  {
   "cell_type": "code",
   "execution_count": null,
   "metadata": {},
   "outputs": [],
   "source": []
  }
 ],
 "metadata": {
  "kernelspec": {
   "display_name": "Python 3",
   "language": "python",
   "name": "python3"
  },
  "language_info": {
   "codemirror_mode": {
    "name": "ipython",
    "version": 3
   },
   "file_extension": ".py",
   "mimetype": "text/x-python",
   "name": "python",
   "nbconvert_exporter": "python",
   "pygments_lexer": "ipython3",
   "version": "3.8.8"
  }
 },
 "nbformat": 4,
 "nbformat_minor": 4
}
